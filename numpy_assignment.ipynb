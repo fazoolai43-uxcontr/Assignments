{
 "cells": [
  {
   "cell_type": "code",
   "execution_count": 99,
   "id": "e98cd8d4",
   "metadata": {},
   "outputs": [],
   "source": [
    "import numpy as np"
   ]
  },
  {
   "cell_type": "code",
   "execution_count": 100,
   "id": "35e7f8fe",
   "metadata": {},
   "outputs": [
    {
     "name": "stdout",
     "output_type": "stream",
     "text": [
      "[76, 87, 67, 56, 56, 34, 23, 25, 12, 9]\n"
     ]
    }
   ],
   "source": [
    "list_of_numbers = []\n",
    "num = int(input(\"How many numbers is your array: \"))\n",
    "for i in range(0,num):\n",
    "    number = int(input(f\"Enter {i+1} : \"))\n",
    "    list_of_numbers.append(number)\n",
    "\n",
    "print(list_of_numbers)\n",
    "my_array = np.array(list_of_numbers)\n"
   ]
  },
  {
   "cell_type": "code",
   "execution_count": 101,
   "id": "4459fa51",
   "metadata": {},
   "outputs": [
    {
     "data": {
      "text/plain": [
       "array([76, 87, 67, 56, 56, 34, 23, 25, 12,  9])"
      ]
     },
     "execution_count": 101,
     "metadata": {},
     "output_type": "execute_result"
    }
   ],
   "source": [
    "my_array"
   ]
  },
  {
   "cell_type": "code",
   "execution_count": 102,
   "id": "d91922c7",
   "metadata": {},
   "outputs": [
    {
     "name": "stdout",
     "output_type": "stream",
     "text": [
      "44.5\n"
     ]
    }
   ],
   "source": [
    "# average\n",
    "average = np.mean(my_array)\n",
    "print(average)"
   ]
  },
  {
   "cell_type": "code",
   "execution_count": 103,
   "id": "be3eafcb",
   "metadata": {},
   "outputs": [
    {
     "name": "stdout",
     "output_type": "stream",
     "text": [
      "445\n"
     ]
    }
   ],
   "source": [
    "# sum of all numbers\n",
    "sum = np.sum(my_array)\n",
    "print(sum)"
   ]
  },
  {
   "cell_type": "code",
   "execution_count": 104,
   "id": "62ea18e5",
   "metadata": {},
   "outputs": [
    {
     "name": "stdout",
     "output_type": "stream",
     "text": [
      "683.85\n"
     ]
    }
   ],
   "source": [
    "# variance \n",
    "\n",
    "var = (np.var(my_array))\n",
    "print(var)"
   ]
  },
  {
   "cell_type": "code",
   "execution_count": 105,
   "id": "7fe57ee8",
   "metadata": {},
   "outputs": [
    {
     "name": "stdout",
     "output_type": "stream",
     "text": [
      "87\n"
     ]
    }
   ],
   "source": [
    "# maximum number \n",
    "\n",
    "max_num = np.max(my_array)\n",
    "print(max_num)"
   ]
  },
  {
   "cell_type": "code",
   "execution_count": 106,
   "id": "ca135da2",
   "metadata": {},
   "outputs": [
    {
     "name": "stdout",
     "output_type": "stream",
     "text": [
      "45.0\n"
     ]
    }
   ],
   "source": [
    "# median \n",
    "\n",
    "median = np.median(my_array)\n",
    "print(median)"
   ]
  },
  {
   "cell_type": "code",
   "execution_count": 107,
   "id": "8c9f68a8",
   "metadata": {},
   "outputs": [
    {
     "name": "stdout",
     "output_type": "stream",
     "text": [
      "9\n"
     ]
    }
   ],
   "source": [
    "# minimum number\n",
    "\n",
    "min_num = np.min(my_array)\n",
    "print(min_num)"
   ]
  },
  {
   "cell_type": "code",
   "execution_count": 108,
   "id": "18cc55dd",
   "metadata": {},
   "outputs": [
    {
     "name": "stdout",
     "output_type": "stream",
     "text": [
      "45.0\n"
     ]
    }
   ],
   "source": [
    "# percentile \n",
    "\n",
    "per = np.percentile(my_array,50)\n",
    "print(per)"
   ]
  },
  {
   "cell_type": "code",
   "execution_count": 109,
   "id": "a7d5e4a6",
   "metadata": {},
   "outputs": [
    {
     "name": "stdout",
     "output_type": "stream",
     "text": [
      "26.150525807333207\n"
     ]
    }
   ],
   "source": [
    "# Standard Deviation\n",
    "std_dev = np.std(my_array)\n",
    "print(std_dev)"
   ]
  },
  {
   "cell_type": "code",
   "execution_count": 110,
   "id": "7ddc93d3",
   "metadata": {},
   "outputs": [
    {
     "name": "stdout",
     "output_type": "stream",
     "text": [
      "26.135162728561728\n"
     ]
    }
   ],
   "source": [
    "# Harmonic mean \n",
    "\n",
    "har_mean = len(my_array) / np.sum(1/my_array)\n",
    "print(har_mean)"
   ]
  },
  {
   "cell_type": "code",
   "execution_count": 111,
   "id": "8a2151da",
   "metadata": {},
   "outputs": [
    {
     "name": "stdout",
     "output_type": "stream",
     "text": [
      "Orignal array: [76 87 67 56 56 34 23 25 12  9]\n",
      "Power array: [438976 658503 300763 175616 175616  39304  12167  15625   1728    729]\n"
     ]
    }
   ],
   "source": [
    "# power \n",
    "power = []\n",
    "pow_num = int(input(\"Enter a number: \"))\n",
    "for i in list_of_numbers:\n",
    "    new_value = i**pow_num\n",
    "    power.append(new_value)\n",
    "\n",
    "power_array = np.array(power)\n",
    "print(f\"Orignal array: {my_array}\")\n",
    "print(f\"Power array: {power_array}\")\n"
   ]
  }
 ],
 "metadata": {
  "kernelspec": {
   "display_name": "Python 3",
   "language": "python",
   "name": "python3"
  },
  "language_info": {
   "codemirror_mode": {
    "name": "ipython",
    "version": 3
   },
   "file_extension": ".py",
   "mimetype": "text/x-python",
   "name": "python",
   "nbconvert_exporter": "python",
   "pygments_lexer": "ipython3",
   "version": "3.13.7"
  }
 },
 "nbformat": 4,
 "nbformat_minor": 5
}
